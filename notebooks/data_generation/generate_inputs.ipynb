{
 "cells": [
  {
   "cell_type": "code",
   "execution_count": 1,
   "id": "d17cc202",
   "metadata": {},
   "outputs": [
    {
     "data": {
      "text/plain": [
       "True"
      ]
     },
     "execution_count": 1,
     "metadata": {},
     "output_type": "execute_result"
    }
   ],
   "source": [
    "%load_ext autoreload\n",
    "%autoreload 2\n",
    "\n",
    "from dotenv import load_dotenv\n",
    "\n",
    "load_dotenv()"
   ]
  },
  {
   "cell_type": "code",
   "execution_count": 14,
   "id": "aee839a5",
   "metadata": {},
   "outputs": [
    {
     "name": "stdout",
     "output_type": "stream",
     "text": [
      "Got 400 pairs for relation /r/IsA\n",
      "Got 400 pairs for relation /r/DefinedAs\n",
      "Got 400 pairs for relation /r/DistinctFrom\n",
      "Got 400 pairs for relation /r/PartOf\n",
      "Got 400 pairs for relation /r/HasA\n",
      "Got 400 pairs for relation /r/MadeOf\n",
      "Got 400 pairs for relation /r/UsedFor\n",
      "Got 400 pairs for relation /r/Causes\n",
      "Got 400 pairs for relation /r/CapableOf\n"
     ]
    }
   ],
   "source": [
    "from lib.json import save_to_json_file\n",
    "from lib.relations import USED_RELATIONS\n",
    "from lib.sql import create_connection\n",
    "from lib.sql.queries import get_unique_random_english_concepts_connected_by_relation\n",
    "\n",
    "conn = create_connection()\n",
    "\n",
    "pairs = {}\n",
    "\n",
    "for relation in USED_RELATIONS:\n",
    "    pairs[relation] = get_unique_random_english_concepts_connected_by_relation(conn, relation, 400)\n",
    "    print(f\"Got {len(pairs[relation])} pairs for relation {relation}\")\n",
    "\n",
    "save_to_json_file(\"inputs\", pairs)"
   ]
  },
  {
   "cell_type": "code",
   "execution_count": null,
   "id": "f626ee52",
   "metadata": {},
   "outputs": [],
   "source": []
  }
 ],
 "metadata": {
  "kernelspec": {
   "display_name": ".venv",
   "language": "python",
   "name": "python3"
  },
  "language_info": {
   "codemirror_mode": {
    "name": "ipython",
    "version": 3
   },
   "file_extension": ".py",
   "mimetype": "text/x-python",
   "name": "python",
   "nbconvert_exporter": "python",
   "pygments_lexer": "ipython3",
   "version": "3.9.13"
  }
 },
 "nbformat": 4,
 "nbformat_minor": 5
}
